{
 "cells": [
  {
   "cell_type": "code",
   "execution_count": null,
   "id": "da9f478b",
   "metadata": {},
   "outputs": [],
   "source": [
    "import numpy as np\n",
    "import pandas as pd\n",
    "import matplotlib.pylab as plt\n",
    "%matplotlib inline\n"
   ]
  },
  {
   "cell_type": "code",
   "execution_count": null,
   "id": "52deabf5",
   "metadata": {},
   "outputs": [],
   "source": [
    "ROOT = \"..\"\n",
    "filename = f\"{ROOT}/data/ZB_WZ_dE_rawdescriptor.csv\"\n",
    "df = pd.read_csv(filename)\n",
    "DESCRIPTOR_NAMES = ['IP_A', 'EA_A', 'EN_A', 'Highest_occ_A', \n",
    "                    'Lowest_unocc_A','rs_A', 'rp_A', 'rd_A', \n",
    "                    'IP_B', 'EA_B', 'EN_B', 'Highest_occ_B',\n",
    "                    'Lowest_unocc_B', 'rs_B', 'rp_B', 'rd_B']\n",
    "TARGET_NAME = \"dE\"\n",
    "RANDOM_STATE = 1\n",
    "Xraw = df.loc[:, DESCRIPTOR_NAMES].values\n",
    "yraw = df.loc[:, TARGET_NAME].values\n"
   ]
  },
  {
   "cell_type": "code",
   "execution_count": null,
   "id": "04497aa9",
   "metadata": {},
   "outputs": [],
   "source": [
    "from sklearn.preprocessing import StandardScaler\n",
    "y = yraw > 0\n",
    "scaler = StandardScaler()\n",
    "scaler.fit(Xraw)\n",
    "X = scaler.transform(Xraw)\n"
   ]
  },
  {
   "cell_type": "code",
   "execution_count": null,
   "id": "0be8a94b",
   "metadata": {},
   "outputs": [],
   "source": [
    "from sklearn.model_selection import KFold\n",
    "from sklearn.linear_model import LogisticRegressionCV\n",
    "kf = KFold(5, shuffle=True, random_state=RANDOM_STATE)\n",
    "cls_cv = LogisticRegressionCV(cv=kf)\n",
    "cls_cv.fit(X, y)\n"
   ]
  },
  {
   "cell_type": "code",
   "execution_count": null,
   "id": "102f797e",
   "metadata": {},
   "outputs": [],
   "source": [
    "from sklearn.linear_model import LogisticRegression\n",
    "from sklearn.model_selection import cross_val_predict\n",
    "from sklearn.metrics import classification_report\n",
    "cls = LogisticRegression(C=cls_cv.C_[0])\n",
    "kf = KFold(5, shuffle=True, random_state=RANDOM_STATE)\n",
    "yp_cv = cross_val_predict(cls, X, y, cv=kf)\n",
    "print(classification_report(y, yp_cv))"
   ]
  },
  {
   "cell_type": "code",
   "execution_count": null,
   "id": "6dc28d7c",
   "metadata": {},
   "outputs": [],
   "source": [
    "from sklearn.metrics import accuracy_score\n",
    "from sklearn.metrics import precision_score\n",
    "from sklearn.metrics import recall_score\n",
    "from sklearn.metrics import f1_score\n",
    "AVERAGE = 'weighted'\n",
    "acc = accuracy_score(y, yp_cv)\n",
    "prec = precision_score(y, yp_cv, average=AVERAGE)\n",
    "recall = recall_score(y, yp_cv, average=AVERAGE)\n",
    "f1 = f1_score(y, yp_cv, average=AVERAGE)\n",
    "print(\"accuracy\", acc, \"precision\", prec, \"recall\", recall, \"F1\", f1)\n"
   ]
  },
  {
   "cell_type": "code",
   "execution_count": null,
   "id": "7d1032b4",
   "metadata": {},
   "outputs": [],
   "source": [
    "from sklearn.metrics import confusion_matrix\n",
    "index = []\n",
    "columns = []\n",
    "for s in cls_cv.classes_:\n",
    "    index.append(\"actual ({})\".format(s))\n",
    "    columns.append(\"predict ({})\".format(s))\n",
    "df_cm_cv = pd.DataFrame(confusion_matrix(y, yp_cv, labels=cls_cv.classes_), \n",
    "                        index=index, columns=columns) \n",
    "df_cm_cv\n"
   ]
  },
  {
   "cell_type": "code",
   "execution_count": null,
   "id": "304911f7",
   "metadata": {},
   "outputs": [],
   "source": [
    "yp = cls_cv.predict(X)\n",
    "yp_proba = cls_cv.predict_proba(X)\n"
   ]
  },
  {
   "cell_type": "code",
   "execution_count": null,
   "id": "144d57ea",
   "metadata": {},
   "outputs": [],
   "source": [
    "\n",
    "df_cm = pd.DataFrame(confusion_matrix(y, yp, labels=cls_cv.classes_), index=index, columns=columns)\n",
    "df_cm\n"
   ]
  }
 ],
 "metadata": {
  "kernelspec": {
   "display_name": "Python 3 (ipykernel)",
   "language": "python",
   "name": "python3"
  },
  "language_info": {
   "codemirror_mode": {
    "name": "ipython",
    "version": 3
   },
   "file_extension": ".py",
   "mimetype": "text/x-python",
   "name": "python",
   "nbconvert_exporter": "python",
   "pygments_lexer": "ipython3",
   "version": "3.9.13"
  }
 },
 "nbformat": 4,
 "nbformat_minor": 5
}
