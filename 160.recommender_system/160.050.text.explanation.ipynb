{
 "cells": [
  {
   "cell_type": "code",
   "execution_count": null,
   "id": "44318f6e",
   "metadata": {},
   "outputs": [],
   "source": [
    "import pandas as pd\n",
    "import seaborn as sns\n",
    "import numpy as np\n",
    "import matplotlib.pyplot as plt\n"
   ]
  },
  {
   "cell_type": "code",
   "execution_count": null,
   "id": "36da9b16",
   "metadata": {},
   "outputs": [],
   "source": [
    "NRANK = 3\n",
    "THRESHOLD = 0.2\n"
   ]
  },
  {
   "cell_type": "code",
   "execution_count": null,
   "id": "d2109c0e",
   "metadata": {},
   "outputs": [],
   "source": [
    "ROOT = \"..\"\n",
    "df_orig = pd.read_csv(f\"{ROOT}/data/recommend/example.csv\", index_col=[0])\n",
    "sns.heatmap(df_orig.values)\n"
   ]
  },
  {
   "cell_type": "code",
   "execution_count": null,
   "id": "59d72cb2",
   "metadata": {},
   "outputs": [],
   "source": [
    "X = df_orig.values\n",
    "u, sdiag, v = np.linalg.svd(X)\n",
    "s = np.zeros((u.shape[1], v.shape[0]))\n",
    "s[:NRANK, :NRANK] = np.diag(sdiag[:NRANK])\n",
    "u = np.matrix(u)\n",
    "v = np.matrix(v)\n",
    "s = np.matrix(s)\n",
    "recom_svd = u * s * v\n",
    "df_recom = pd.DataFrame(recom_svd, index=df_orig.index, \n",
    "                        columns=df_orig.columns)\n"
   ]
  },
  {
   "cell_type": "code",
   "execution_count": null,
   "id": "bbea8c7f",
   "metadata": {},
   "outputs": [],
   "source": [
    "from plot_diff import plot_df_diff\n",
    "plot_df_diff(df_orig, df_recom, THRESHOLD)"
   ]
  }
 ],
 "metadata": {
  "kernelspec": {
   "display_name": "Python 3 (ipykernel)",
   "language": "python",
   "name": "python3"
  },
  "language_info": {
   "codemirror_mode": {
    "name": "ipython",
    "version": 3
   },
   "file_extension": ".py",
   "mimetype": "text/x-python",
   "name": "python",
   "nbconvert_exporter": "python",
   "pygments_lexer": "ipython3",
   "version": "3.9.13"
  }
 },
 "nbformat": 4,
 "nbformat_minor": 5
}
