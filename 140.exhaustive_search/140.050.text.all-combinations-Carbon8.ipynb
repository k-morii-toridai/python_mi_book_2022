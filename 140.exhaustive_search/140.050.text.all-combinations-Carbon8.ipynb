{
 "cells": [
  {
   "cell_type": "code",
   "execution_count": null,
   "metadata": {},
   "outputs": [],
   "source": [
    "from sklearn.linear_model import LinearRegression, Ridge, RidgeCV\n",
    "import warnings\n",
    "from sklearn.model_selection import cross_val_score, KFold\n",
    "import pandas as pd\n",
    "import itertools\n",
    "from sklearn.metrics import mean_squared_error, r2_score\n",
    "from sklearn.ensemble import RandomForestRegressor\n",
    "import numpy as np\n",
    "import matplotlib.pyplot as plt\n",
    "import os\n",
    "import progressbar \n",
    "\n",
    "%matplotlib inline\n",
    "\n",
    "pd.set_option(\"display.max_rows\", 10)\n",
    "pd.set_option(\"display.max_columns\", 60)\n",
    "warnings.filterwarnings(\"ignore\")"
   ]
  },
  {
   "cell_type": "code",
   "execution_count": null,
   "metadata": {},
   "outputs": [],
   "source": [
    "ROOT=\"..\"\n",
    "df = pd.read_csv(f\"{ROOT}/data/TC_ReCo_detail_descriptor.csv\")\n",
    "DESCRIPTOR_NAMES = ['C_R', 'C_T', 'vol_per_atom', 'Z', 'f4', \n",
    "                    'd5', 'L4f', 'S4f', 'J4f', '(g-1)J4f', '(2-g)J4f']\n",
    "TARGET_NAME = 'Tc'\n"
   ]
  },
  {
   "cell_type": "code",
   "execution_count": null,
   "metadata": {},
   "outputs": [],
   "source": [
    "Xraw = df[DESCRIPTOR_NAMES].values\n",
    "y = df[TARGET_NAME].values"
   ]
  },
  {
   "cell_type": "code",
   "execution_count": null,
   "metadata": {},
   "outputs": [],
   "source": [
    "from sklearn.preprocessing import StandardScaler\n",
    "scaler = StandardScaler()\n",
    "scaler.fit(Xraw)\n",
    "X = scaler.transform(Xraw)\n"
   ]
  },
  {
   "cell_type": "code",
   "execution_count": null,
   "metadata": {},
   "outputs": [],
   "source": [
    "def all_combinations(n: int, m: int=None):\n",
    "    seq = range(n)\n",
    "    if m is None:\n",
    "        m = n\n",
    "    for i in range(1, m+1):\n",
    "        for x in itertools.combinations(seq, i):\n",
    "            yield x"
   ]
  },
  {
   "cell_type": "code",
   "execution_count": null,
   "metadata": {},
   "outputs": [],
   "source": [
    "from sklearn.metrics import make_scorer\n",
    "def make_cv_model(x, y, nfold=5, random_state=0):\n",
    "    kf = KFold(n_splits=nfold, shuffle=True, random_state=random_state)\n",
    "    meanlist = []\n",
    "    varlist = []\n",
    "    reg = Ridge(fit_intercept=True, normalize=False, alpha=0.001)\n",
    "    scorelist = cross_val_score(\n",
    "        reg, x, y, scoring=make_scorer(r2_score), cv=kf)\n",
    "    mean = np.mean(scorelist) # 平均\n",
    "    std = np.std(scorelist) # 標準偏差\n",
    "    reg.fit(x, y) # 回帰モデルを作り直し係数を得る．\n",
    "    return mean, std, reg.coef_\n"
   ]
  },
  {
   "cell_type": "code",
   "execution_count": null,
   "metadata": {},
   "outputs": [],
   "source": [
    "combi_list = []\n",
    "mean_list = []\n",
    "std_list = []\n",
    "coef_list = []\n",
    "P = X.shape[1]\n",
    "ncombi = 2**P-1\n",
    "bar = progressbar.ProgressBar(max_value=ncombi)\n",
    "for i, icombi in enumerate(all_combinations(P)):\n",
    "    bar.update(i+1)\n",
    "    # icombi = np.array(icombi)\n",
    "    # combi = np.array(DESCRIPTOR_NAMES)[np.array(icombi)]\n",
    "    combi_list.append(icombi)\n",
    "    xtry = X[:, icombi]\n",
    "    ytry = y\n",
    "    mean, std, coef = make_cv_model(xtry, ytry)\n",
    "    mean_list.append(mean)\n",
    "    std_list.append(std)\n",
    "    # The first element　of coef is the coefficient to y\n",
    "    coef_list.append(coef.ravel())\n",
    "\n",
    "mean_list = np.array(mean_list)\n",
    "std_list = np.array(std_list)\n"
   ]
  },
  {
   "cell_type": "code",
   "execution_count": null,
   "metadata": {},
   "outputs": [],
   "source": [
    "from all_combinations_misc import plot_r2_hist\n",
    "df_score = pd.DataFrame({\"combination\": combi_list, \n",
    "                         \"score_mean\": mean_list, \n",
    "                         \"score_std\": std_list, \"coef\": coef_list})\n",
    "df_score.sort_values(by=\"score_mean\", ascending=False, inplace=True)\n",
    "df_score.reset_index(drop=True, inplace=True)\n",
    "plot_r2_hist(df_score,xlim=(-0.5,1))\n"
   ]
  },
  {
   "cell_type": "code",
   "execution_count": null,
   "metadata": {},
   "outputs": [],
   "source": [
    "from all_combinations_misc import calculate_coeffix\n",
    "coeffixlist = calculate_coeffix(DESCRIPTOR_NAMES,\n",
    "                                df_score[\"combination\"].values, \n",
    "                                df_score[\"coef\"].values)\n",
    "df_coef = pd.DataFrame(coeffixlist, columns=DESCRIPTOR_NAMES)\n",
    "df_result = pd.concat([df_score, df_coef], axis=1)\n",
    "df_result.sort_values(by=\"score_mean\", ascending=False, inplace=True)\n",
    "df_result.reset_index(drop=True, inplace=True)"
   ]
  },
  {
   "cell_type": "code",
   "execution_count": null,
   "metadata": {},
   "outputs": [],
   "source": [
    "if True:\n",
    "    fig, ax = plt.subplots() # matplotlib の図と座標軸を得る\n",
    "    df_result.iloc[:200, :].plot(y=\"score_mean\", yerr=\"score_std\", ax=ax)\n",
    "    ax.set_xlabel(\"index\") # 横軸名\n",
    "    ax.set_ylabel(\"$R^2$\") # 縦軸名\n",
    "    fig.tight_layout()\n",
    "else:\n",
    "    from all_combinations_misc import plot_index_r2\n",
    "    plot_index_r2(df_result.iloc[:200,], y=\"score_mean\", yerr=\"score_std\", \n",
    "                xlabel=\"index\", ylabel=\"$R^2$\")"
   ]
  },
  {
   "cell_type": "code",
   "execution_count": null,
   "metadata": {},
   "outputs": [],
   "source": [
    "from all_combinations_misc import plot_weight_diagram\n",
    "fig, axes = plt.subplots(1,2, figsize=(10,3))\n",
    "plot_weight_diagram(df_result, DESCRIPTOR_NAMES, nmax=50, ax=axes[0])\n",
    "plot_weight_diagram(df_result, DESCRIPTOR_NAMES, nmax=200, ax=axes[1])"
   ]
  },
  {
   "cell_type": "code",
   "execution_count": null,
   "metadata": {},
   "outputs": [],
   "source": [
    "from all_combinations_misc import make_and_plot_block_weight_list\n",
    "querylist = [\"score_mean<0.15\", \"score_mean>0.15 and score_mean<0.5\",\n",
    "               \"score_mean>0.5 and score_mean<0.7\", \"score_mean>0.7\"]\n",
    "make_and_plot_block_weight_list(df_result, DESCRIPTOR_NAMES, querylist)\n"
   ]
  },
  {
   "cell_type": "code",
   "execution_count": null,
   "metadata": {},
   "outputs": [],
   "source": [
    "from all_combinations_misc import make_indicator_diagram\n",
    "from all_combinations_misc import make_all_ind_by_index\n",
    "df_indicator_diagram = make_indicator_diagram(\n",
    "    df_result, DESCRIPTOR_NAMES)\n",
    "regions = [_i for _i in range(6)]\n",
    "regionsize = 200\n",
    "df_imp_by_index = make_all_ind_by_index(\n",
    "    df_indicator_diagram, DESCRIPTOR_NAMES, regions, regionsize)\n",
    "from all_combinations_misc import plot_df_imp_by_index\n",
    "plot_df_imp_by_index(df_imp_by_index, DESCRIPTOR_NAMES,\n",
    "                     regions, regionsize)"
   ]
  },
  {
   "cell_type": "code",
   "execution_count": null,
   "metadata": {},
   "outputs": [],
   "source": [
    "relv = []\n",
    "global_max = df_result[\"score_mean\"].max()\n",
    "for descriptor in DESCRIPTOR_NAMES:\n",
    "    _df = df_result[df_result[descriptor]==0]\n",
    "    local_max = _df[\"score_mean\"].max()\n",
    "    relv.append([descriptor, global_max - local_max])\n",
    "df_relv = pd.DataFrame(relv, columns=[\"descriptor\", \"diffR2\"])\n",
    "from all_combinations_misc import plot_importance\n",
    "plot_importance(df_relv, x=\"descriptor\", y=\"diffR2\")"
   ]
  }
 ],
 "metadata": {
  "kernelspec": {
   "display_name": "Python 3 (ipykernel)",
   "language": "python",
   "name": "python3"
  },
  "language_info": {
   "codemirror_mode": {
    "name": "ipython",
    "version": 3
   },
   "file_extension": ".py",
   "mimetype": "text/x-python",
   "name": "python",
   "nbconvert_exporter": "python",
   "pygments_lexer": "ipython3",
   "version": "3.9.13"
  }
 },
 "nbformat": 4,
 "nbformat_minor": 1
}
