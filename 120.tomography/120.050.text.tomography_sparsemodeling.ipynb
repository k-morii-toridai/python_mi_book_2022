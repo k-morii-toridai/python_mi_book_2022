{
 "cells": [
  {
   "cell_type": "code",
   "execution_count": null,
   "metadata": {},
   "outputs": [],
   "source": [
    "import pandas as pd\n",
    "import numpy as np\n",
    "from sklearn.linear_model import Lasso\n",
    "import matplotlib.pyplot as plt\n",
    "import os\n",
    "%matplotlib inline"
   ]
  },
  {
   "cell_type": "code",
   "execution_count": null,
   "metadata": {},
   "outputs": [],
   "source": [
    "DATA_NAME = \"L64\"  \n",
    "D = 4  \n",
    "NOISE_FAC = 0.05  \n",
    "ALPHA = 10**(-5)  \n",
    "FIT_INTERCEPT = False"
   ]
  },
  {
   "cell_type": "code",
   "execution_count": null,
   "metadata": {},
   "outputs": [],
   "source": [
    "ROOT = \"..\"\n",
    "filename = os.path.join(f\"{ROOT}/data/font\",DATA_NAME + \".csv\")\n",
    "data = np.loadtxt(filename, delimiter=\",\")\n",
    "l = data.shape[0]\n",
    "data = data.reshape(-1)\n"
   ]
  },
  {
   "cell_type": "code",
   "execution_count": null,
   "metadata": {},
   "outputs": [],
   "source": [
    "m1 = data.min()\n",
    "m2 = data.max()\n",
    "w_orig = (data-m1)/(m2-m1)\n"
   ]
  },
  {
   "cell_type": "code",
   "execution_count": null,
   "metadata": {},
   "outputs": [],
   "source": [
    "plt.imshow(w_orig.reshape(l,l), cmap=plt.cm.gray, interpolation='nearest')"
   ]
  },
  {
   "cell_type": "code",
   "execution_count": null,
   "metadata": {},
   "outputs": [],
   "source": [
    "plt.hist(w_orig, bins=100)\n",
    "\"_\""
   ]
  },
  {
   "cell_type": "code",
   "execution_count": null,
   "metadata": {},
   "outputs": [],
   "source": [
    "from tomography_misc import build_projection_operator\n",
    "# このセルはsklearnのコードから来ています．\n",
    "P = l*l\n",
    "X = build_projection_operator(l, l//D)\n",
    "print(X.shape)"
   ]
  },
  {
   "cell_type": "code",
   "execution_count": null,
   "metadata": {},
   "outputs": [],
   "source": [
    "y = X * w_orig\n",
    "y += NOISE_FAC * np.random.randn(*y.shape)\n"
   ]
  },
  {
   "cell_type": "code",
   "execution_count": null,
   "metadata": {},
   "outputs": [],
   "source": [
    "reg = Lasso(alpha=ALPHA, fit_intercept=FIT_INTERCEPT)\n",
    "reg.fit(X, y)\n",
    "w_reg = reg.coef_\n"
   ]
  },
  {
   "cell_type": "code",
   "execution_count": null,
   "metadata": {},
   "outputs": [],
   "source": [
    "from tomography_misc import plot_images\n",
    "plot_images(w_orig.reshape(l,l), w_reg.reshape(l,l), \"original\", \"L1\")\n"
   ]
  }
 ],
 "metadata": {
  "kernelspec": {
   "display_name": "Python 3 (ipykernel)",
   "language": "python",
   "name": "python3"
  },
  "language_info": {
   "codemirror_mode": {
    "name": "ipython",
    "version": 3
   },
   "file_extension": ".py",
   "mimetype": "text/x-python",
   "name": "python",
   "nbconvert_exporter": "python",
   "pygments_lexer": "ipython3",
   "version": "3.9.13"
  }
 },
 "nbformat": 4,
 "nbformat_minor": 2
}
