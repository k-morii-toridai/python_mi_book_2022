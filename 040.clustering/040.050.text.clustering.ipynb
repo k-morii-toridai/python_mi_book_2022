{
 "cells": [
  {
   "cell_type": "code",
   "execution_count": null,
   "id": "2ae70d2f",
   "metadata": {},
   "outputs": [],
   "source": [
    "import numpy as np\n",
    "import pandas as pd\n",
    "import matplotlib.pylab as plt\n",
    "%matplotlib inline\n",
    "ROOT = \"..\"\n",
    "df_obs = pd.read_csv(f\"{ROOT}/data_calculated/Carbon8_descriptor.csv\", \n",
    "                     index_col=[0,1])\n",
    "df_new = pd.read_csv(\n",
    "        f\"{ROOT}/data_calculated/Carbon8_descriptor_selected_sp.csv\", \n",
    "        index_col=[0, 1])\n",
    "DESCRIPTOR_NAMES = ['a0.25_rp1.0', 'a0.25_rp1.5', 'a0.25_rp2.0', \n",
    "                     'a0.25_rp2.5', 'a0.25_rp3.0', 'a0.5_rp1.0', \n",
    "                     'a0.5_rp1.5', 'a0.5_rp2.0', 'a0.5_rp2.5',\n",
    "                     'a0.5_rp3.0', 'a1.0_rp1.0', 'a1.0_rp1.5', \n",
    "                     'a1.0_rp2.0', 'a1.0_rp2.5', 'a1.0_rp3.0']\n",
    "SPLABEL=\"sp_label\"\n",
    "ans_list = df_new[SPLABEL].values"
   ]
  },
  {
   "cell_type": "code",
   "execution_count": null,
   "id": "758efcc4",
   "metadata": {},
   "outputs": [],
   "source": [
    "from sklearn.preprocessing import StandardScaler\n",
    "Xraw = df_obs[DESCRIPTOR_NAMES].values\n",
    "scaler = StandardScaler()\n",
    "scaler.fit(Xraw)\n",
    "X = scaler.transform(Xraw)\n"
   ]
  },
  {
   "cell_type": "code",
   "execution_count": null,
   "id": "6db757b0",
   "metadata": {},
   "outputs": [],
   "source": [
    "from sklearn.decomposition import PCA\n",
    "drd = PCA(2)\n",
    "drd.fit(X)\n",
    "X_PCA = drd.transform(X)\n"
   ]
  },
  {
   "cell_type": "code",
   "execution_count": null,
   "id": "468429e7",
   "metadata": {},
   "outputs": [],
   "source": [
    "from sklearn.cluster import KMeans\n",
    "NCLUSTERS = 3\n",
    "km = KMeans(NCLUSTERS, random_state=1)\n",
    "km.fit(X)\n",
    "yp_km = km.predict(X)\n"
   ]
  },
  {
   "cell_type": "code",
   "execution_count": null,
   "id": "6d813ac5",
   "metadata": {},
   "outputs": [],
   "source": [
    "from clustering_misc import plot_X_withlabel\n",
    "Xraw_new = df_new[DESCRIPTOR_NAMES].values\n",
    "X_new = scaler.transform(Xraw_new)\n",
    "X_new_PCA = drd.transform(X_new)\n",
    "plot_X_withlabel(X_PCA, X_new_PCA, ans_list)\n"
   ]
  },
  {
   "cell_type": "code",
   "execution_count": null,
   "id": "a55a7249",
   "metadata": {},
   "outputs": [],
   "source": [
    "from clustering_misc import plot_X_clusters\n",
    "plot_X_clusters(X_PCA, yp_km, alpha=0.05)\n"
   ]
  },
  {
   "cell_type": "code",
   "execution_count": null,
   "id": "530243ae",
   "metadata": {},
   "outputs": [],
   "source": [
    "from sklearn.mixture import GaussianMixture\n",
    "gmm = GaussianMixture(NCLUSTERS, random_state=3)\n",
    "gmm.fit(X)\n",
    "yp_gmm = gmm.predict(X)\n",
    "plot_X_clusters(X_PCA, yp_gmm, alpha=0.01)"
   ]
  },
  {
   "cell_type": "code",
   "execution_count": null,
   "id": "28eef349",
   "metadata": {},
   "outputs": [],
   "source": [
    "from clustering_misc import make_df_sample\n",
    "X_sample, ans_list_sample = make_df_sample(df_new, DESCRIPTOR_NAMES, \n",
    "                                           n=3, group_name=SPLABEL)\n"
   ]
  },
  {
   "cell_type": "code",
   "execution_count": null,
   "id": "544104e7",
   "metadata": {},
   "outputs": [],
   "source": [
    "from scipy.spatial.distance import pdist\n",
    "from scipy.cluster.hierarchy import linkage\n",
    "metric = 'euclidean'\n",
    "pairdistance = pdist(X_sample, metric=metric)\n",
    "method = 'complete'\n",
    "Z = linkage(pairdistance, method=method)\n"
   ]
  },
  {
   "cell_type": "code",
   "execution_count": null,
   "id": "7ba6cd21",
   "metadata": {},
   "outputs": [],
   "source": [
    "from scipy.cluster.hierarchy import dendrogram\n",
    "fig, ax = plt.subplots(figsize=(3, 5))\n",
    "tree = dendrogram(Z, labels=ans_list_sample, orientation=\"left\", ax=ax)\n",
    "ax.invert_yaxis()\n",
    "fig.tight_layout()\n"
   ]
  }
 ],
 "metadata": {
  "kernelspec": {
   "display_name": "Python 3",
   "language": "python",
   "name": "python3"
  },
  "language_info": {
   "codemirror_mode": {
    "name": "ipython",
    "version": 3
   },
   "file_extension": ".py",
   "mimetype": "text/x-python",
   "name": "python",
   "nbconvert_exporter": "python",
   "pygments_lexer": "ipython3",
   "version": "3.9.12"
  }
 },
 "nbformat": 4,
 "nbformat_minor": 5
}
