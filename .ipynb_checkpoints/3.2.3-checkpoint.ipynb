{
 "cells": [
  {
   "cell_type": "markdown",
   "id": "4646fbd3-4650-46a0-bd80-1e542ae0d678",
   "metadata": {},
   "source": [
    "## 1．データ収集"
   ]
  },
  {
   "cell_type": "code",
   "execution_count": 3,
   "id": "747946ce-d586-4f21-8434-818ad7a39139",
   "metadata": {
    "tags": []
   },
   "outputs": [],
   "source": [
    "import pandas as pd\n",
    "df = pd.read_csv('data/TC_ReCo_detail_descriptor.csv')"
   ]
  },
  {
   "cell_type": "code",
   "execution_count": 4,
   "id": "1220715d-2ce7-46d1-a259-9566bdba75c6",
   "metadata": {
    "tags": []
   },
   "outputs": [
    {
     "name": "stdout",
     "output_type": "stream",
     "text": [
      "<class 'pandas.core.frame.DataFrame'>\n",
      "RangeIndex: 60 entries, 0 to 59\n",
      "Data columns (total 19 columns):\n",
      " #   Column        Non-Null Count  Dtype  \n",
      "---  ------        --------------  -----  \n",
      " 0   name          60 non-null     object \n",
      " 1   polytyp       33 non-null     object \n",
      " 2   Tc            60 non-null     float64\n",
      " 3   ref           60 non-null     object \n",
      " 4   author        60 non-null     object \n",
      " 5   link          36 non-null     object \n",
      " 6   comment       7 non-null      object \n",
      " 7   polytyp2      60 non-null     object \n",
      " 8   C_R           60 non-null     float64\n",
      " 9   C_T           60 non-null     float64\n",
      " 10  vol_per_atom  60 non-null     float64\n",
      " 11  Z             60 non-null     float64\n",
      " 12  f4            60 non-null     float64\n",
      " 13  d5            60 non-null     float64\n",
      " 14  L4f           60 non-null     float64\n",
      " 15  S4f           60 non-null     float64\n",
      " 16  J4f           60 non-null     float64\n",
      " 17  (g-1)J4f      60 non-null     float64\n",
      " 18  (2-g)J4f      60 non-null     float64\n",
      "dtypes: float64(12), object(7)\n",
      "memory usage: 9.0+ KB\n"
     ]
    }
   ],
   "source": [
    "df.info()"
   ]
  },
  {
   "cell_type": "markdown",
   "id": "751ae899-3d04-408e-b89d-d4b89e6d2511",
   "metadata": {},
   "source": [
    "### 数値カラムから目的変数と説明変数を作成"
   ]
  },
  {
   "cell_type": "code",
   "execution_count": 5,
   "id": "8c4a7398-7291-4e3d-bb90-46fe03cc7c85",
   "metadata": {
    "tags": []
   },
   "outputs": [],
   "source": [
    "import numpy as np"
   ]
  },
  {
   "cell_type": "code",
   "execution_count": 16,
   "id": "1b5b7fd2-c109-417a-abee-1f50397773d8",
   "metadata": {
    "tags": []
   },
   "outputs": [],
   "source": [
    "X_columns = df.select_dtypes(np.number).columns\n",
    "TARGET_NAME = 'Tc'\n",
    "X = df[X_columns]\n",
    "y = df[TARGET_NAME]"
   ]
  },
  {
   "cell_type": "markdown",
   "id": "a1ea0dfa-2cfc-4bbf-a854-0bb5a6cc5fa6",
   "metadata": {
    "tags": []
   },
   "source": [
    "## 2．データ加工"
   ]
  },
  {
   "cell_type": "markdown",
   "id": "acfdb326-8f9c-4655-8c85-8bfd6a41574e",
   "metadata": {},
   "source": [
    "### 標準化"
   ]
  },
  {
   "cell_type": "code",
   "execution_count": 27,
   "id": "6305eb47-015b-47ae-bb19-f2e34977d44e",
   "metadata": {
    "tags": []
   },
   "outputs": [],
   "source": [
    "from sklearn.preprocessing import StandardScaler\n",
    "scaler = StandardScaler()\n",
    "scaler.set_output(transform=\"pandas\")\n",
    "X = scaler.fit_transform(X)"
   ]
  },
  {
   "cell_type": "markdown",
   "id": "36ec11c8-7b4f-48c3-a240-3c2a934caa59",
   "metadata": {},
   "source": [
    "## 3．データからの学習"
   ]
  },
  {
   "cell_type": "code",
   "execution_count": 49,
   "id": "ee6c8e9b-7d3e-4634-91a5-10c4ef017470",
   "metadata": {
    "tags": []
   },
   "outputs": [],
   "source": [
    "# KFold\n",
    "from sklearn.model_selection import KFold\n",
    "k = 10\n",
    "cv = KFold(n_splits=k, random_state=0, shuffle=True)\n",
    "# make model\n",
    "from sklearn.kernel_ridge import KernelRidge\n",
    "kr = KernelRidge(alpha=1, gamma=1 ,kernel=\"rbf\")\n",
    "# Grid Search\n",
    "from sklearn.model_selection import GridSearchCV\n",
    "param_grid = {'alpha': np.logspace(-6, 0, 11),\n",
    "              'gamma': np.logspace(-5, 0, 11)}\n",
    "reg_cv = GridSearchCV(estimator=kr, cv=cv, param_grid=param_grid)\n",
    "\n",
    "# learning\n",
    "reg_cv.fit(X, y)\n",
    "\n",
    "# predict\n",
    "y_pred = reg_cv.predict(X)"
   ]
  },
  {
   "cell_type": "code",
   "execution_count": 47,
   "id": "fbf36c27-465d-4cfe-bcf0-9273f47da71d",
   "metadata": {
    "tags": []
   },
   "outputs": [
    {
     "name": "stdout",
     "output_type": "stream",
     "text": [
      "best params: {'alpha': 1e-06, 'gamma': 0.00031622776601683794}\n",
      "best score: 0.9999987876869334\n"
     ]
    }
   ],
   "source": [
    "print(f\"best params: {reg_cv.best_params_}\")\n",
    "print(f\"best score: {reg_cv.best_score_}\")"
   ]
  },
  {
   "cell_type": "code",
   "execution_count": 45,
   "id": "de9587d9-01e6-4188-b6ec-c77e5d885093",
   "metadata": {
    "tags": []
   },
   "outputs": [
    {
     "data": {
      "text/html": [
       "<style>#sk-container-id-7 {color: black;background-color: white;}#sk-container-id-7 pre{padding: 0;}#sk-container-id-7 div.sk-toggleable {background-color: white;}#sk-container-id-7 label.sk-toggleable__label {cursor: pointer;display: block;width: 100%;margin-bottom: 0;padding: 0.3em;box-sizing: border-box;text-align: center;}#sk-container-id-7 label.sk-toggleable__label-arrow:before {content: \"▸\";float: left;margin-right: 0.25em;color: #696969;}#sk-container-id-7 label.sk-toggleable__label-arrow:hover:before {color: black;}#sk-container-id-7 div.sk-estimator:hover label.sk-toggleable__label-arrow:before {color: black;}#sk-container-id-7 div.sk-toggleable__content {max-height: 0;max-width: 0;overflow: hidden;text-align: left;background-color: #f0f8ff;}#sk-container-id-7 div.sk-toggleable__content pre {margin: 0.2em;color: black;border-radius: 0.25em;background-color: #f0f8ff;}#sk-container-id-7 input.sk-toggleable__control:checked~div.sk-toggleable__content {max-height: 200px;max-width: 100%;overflow: auto;}#sk-container-id-7 input.sk-toggleable__control:checked~label.sk-toggleable__label-arrow:before {content: \"▾\";}#sk-container-id-7 div.sk-estimator input.sk-toggleable__control:checked~label.sk-toggleable__label {background-color: #d4ebff;}#sk-container-id-7 div.sk-label input.sk-toggleable__control:checked~label.sk-toggleable__label {background-color: #d4ebff;}#sk-container-id-7 input.sk-hidden--visually {border: 0;clip: rect(1px 1px 1px 1px);clip: rect(1px, 1px, 1px, 1px);height: 1px;margin: -1px;overflow: hidden;padding: 0;position: absolute;width: 1px;}#sk-container-id-7 div.sk-estimator {font-family: monospace;background-color: #f0f8ff;border: 1px dotted black;border-radius: 0.25em;box-sizing: border-box;margin-bottom: 0.5em;}#sk-container-id-7 div.sk-estimator:hover {background-color: #d4ebff;}#sk-container-id-7 div.sk-parallel-item::after {content: \"\";width: 100%;border-bottom: 1px solid gray;flex-grow: 1;}#sk-container-id-7 div.sk-label:hover label.sk-toggleable__label {background-color: #d4ebff;}#sk-container-id-7 div.sk-serial::before {content: \"\";position: absolute;border-left: 1px solid gray;box-sizing: border-box;top: 0;bottom: 0;left: 50%;z-index: 0;}#sk-container-id-7 div.sk-serial {display: flex;flex-direction: column;align-items: center;background-color: white;padding-right: 0.2em;padding-left: 0.2em;position: relative;}#sk-container-id-7 div.sk-item {position: relative;z-index: 1;}#sk-container-id-7 div.sk-parallel {display: flex;align-items: stretch;justify-content: center;background-color: white;position: relative;}#sk-container-id-7 div.sk-item::before, #sk-container-id-7 div.sk-parallel-item::before {content: \"\";position: absolute;border-left: 1px solid gray;box-sizing: border-box;top: 0;bottom: 0;left: 50%;z-index: -1;}#sk-container-id-7 div.sk-parallel-item {display: flex;flex-direction: column;z-index: 1;position: relative;background-color: white;}#sk-container-id-7 div.sk-parallel-item:first-child::after {align-self: flex-end;width: 50%;}#sk-container-id-7 div.sk-parallel-item:last-child::after {align-self: flex-start;width: 50%;}#sk-container-id-7 div.sk-parallel-item:only-child::after {width: 0;}#sk-container-id-7 div.sk-dashed-wrapped {border: 1px dashed gray;margin: 0 0.4em 0.5em 0.4em;box-sizing: border-box;padding-bottom: 0.4em;background-color: white;}#sk-container-id-7 div.sk-label label {font-family: monospace;font-weight: bold;display: inline-block;line-height: 1.2em;}#sk-container-id-7 div.sk-label-container {text-align: center;}#sk-container-id-7 div.sk-container {/* jupyter's `normalize.less` sets `[hidden] { display: none; }` but bootstrap.min.css set `[hidden] { display: none !important; }` so we also need the `!important` here to be able to override the default hidden behavior on the sphinx rendered scikit-learn.org. See: https://github.com/scikit-learn/scikit-learn/issues/21755 */display: inline-block !important;position: relative;}#sk-container-id-7 div.sk-text-repr-fallback {display: none;}</style><div id=\"sk-container-id-7\" class=\"sk-top-container\"><div class=\"sk-text-repr-fallback\"><pre>KernelRidge(alpha=1e-06, gamma=0.00031622776601683794, kernel=&#x27;rbf&#x27;)</pre><b>In a Jupyter environment, please rerun this cell to show the HTML representation or trust the notebook. <br />On GitHub, the HTML representation is unable to render, please try loading this page with nbviewer.org.</b></div><div class=\"sk-container\" hidden><div class=\"sk-item\"><div class=\"sk-estimator sk-toggleable\"><input class=\"sk-toggleable__control sk-hidden--visually\" id=\"sk-estimator-id-11\" type=\"checkbox\" checked><label for=\"sk-estimator-id-11\" class=\"sk-toggleable__label sk-toggleable__label-arrow\">KernelRidge</label><div class=\"sk-toggleable__content\"><pre>KernelRidge(alpha=1e-06, gamma=0.00031622776601683794, kernel=&#x27;rbf&#x27;)</pre></div></div></div></div></div>"
      ],
      "text/plain": [
       "KernelRidge(alpha=1e-06, gamma=0.00031622776601683794, kernel='rbf')"
      ]
     },
     "execution_count": 45,
     "metadata": {},
     "output_type": "execute_result"
    }
   ],
   "source": [
    "reg_cv.best_estimator_"
   ]
  },
  {
   "cell_type": "code",
   "execution_count": 39,
   "id": "90c3d3db-1711-4cc0-ace8-eaea9120a1c0",
   "metadata": {
    "tags": []
   },
   "outputs": [
    {
     "data": {
      "text/plain": [
       "{'alpha': array([1.00000000e-06, 3.98107171e-06, 1.58489319e-05, 6.30957344e-05,\n",
       "        2.51188643e-04, 1.00000000e-03, 3.98107171e-03, 1.58489319e-02,\n",
       "        6.30957344e-02, 2.51188643e-01, 1.00000000e+00]),\n",
       " 'gamma': array([1.00000000e-05, 3.16227766e-05, 1.00000000e-04, 3.16227766e-04,\n",
       "        1.00000000e-03, 3.16227766e-03, 1.00000000e-02, 3.16227766e-02,\n",
       "        1.00000000e-01, 3.16227766e-01, 1.00000000e+00])}"
      ]
     },
     "execution_count": 39,
     "metadata": {},
     "output_type": "execute_result"
    }
   ],
   "source": [
    "{'alpha': np.logspace(-6, 0, 11),\n",
    "'gamma': np.logspace(-5, 0, 11)}"
   ]
  },
  {
   "cell_type": "code",
   "execution_count": null,
   "id": "afbd9cd0-da32-4235-bf70-6cc16d752123",
   "metadata": {},
   "outputs": [],
   "source": [
    "GridSearchCV(estimator=SVC(),\n",
    "             param_grid={'C': [1, 10], 'kernel': ('linear', 'rbf')})"
   ]
  },
  {
   "cell_type": "code",
   "execution_count": 51,
   "id": "c31dd71b-d3ce-4fac-ae77-982b9e0eec2a",
   "metadata": {
    "tags": []
   },
   "outputs": [
    {
     "name": "stdout",
     "output_type": "stream",
     "text": [
      "R2 score: 0.9999998340661281\n"
     ]
    }
   ],
   "source": [
    "from sklearn.metrics import r2_score\n",
    "print(f\"R2 score: {r2_score(y, y_pred)}\")"
   ]
  },
  {
   "cell_type": "code",
   "execution_count": 54,
   "id": "3f8a0c99-2304-44cc-adb5-971d245182b6",
   "metadata": {
    "tags": []
   },
   "outputs": [
    {
     "data": {
      "image/png": "[encoded data removed]",
      "text/plain": [
       "<Figure size 500x500 with 1 Axes>"
      ]
     },
     "metadata": {},
     "output_type": "display_data"
    }
   ],
   "source": [
    "from regression_misc import plot_y_yp\n",
    "plot_y_yp(y, y_pred)"
   ]
  },
  {
   "cell_type": "code",
   "execution_count": null,
   "id": "bb22a15e-3554-43bb-9b42-fefc33ff3d89",
   "metadata": {},
   "outputs": [],
   "source": []
  },
  {
   "cell_type": "markdown",
   "id": "48e780cd-af17-4406-aff7-cdb282a58bb7",
   "metadata": {},
   "source": [
    "## RandomForestRegressor"
   ]
  },
  {
   "cell_type": "code",
   "execution_count": 57,
   "id": "c2cf35e2-0f28-4f25-8390-0f10d1dfe3cb",
   "metadata": {
    "tags": []
   },
   "outputs": [],
   "source": []
  },
  {
   "cell_type": "code",
   "execution_count": 84,
   "id": "c3c83382-9fce-4b73-89b0-6ac8bd3a9804",
   "metadata": {
    "tags": []
   },
   "outputs": [],
   "source": [
    "import pandas as pd\n",
    "df = pd.read_csv('data/TC_ReCo_detail_descriptor.csv')\n",
    "\n",
    "X_columns = df.select_dtypes(np.number).columns\n",
    "TARGET_NAME = 'Tc'\n",
    "X = df[X_columns]\n",
    "y = df[TARGET_NAME]\n",
    "\n",
    "from sklearn.preprocessing import StandardScaler\n",
    "scaler = StandardScaler()\n",
    "scaler.set_output(transform=\"pandas\")\n",
    "X = scaler.fit_transform(X)\n",
    "\n",
    "# hold-out\n",
    "from sklearn.model_selection import train_test_split\n",
    "X_train, X_test, y_train, y_test = train_test_split(X, y, test_size=0.5, random_state=0)"
   ]
  },
  {
   "cell_type": "code",
   "execution_count": 85,
   "id": "e3684bcd-9f51-42d5-a8b4-6331d440ef96",
   "metadata": {
    "tags": []
   },
   "outputs": [],
   "source": [
    "# make model\n",
    "from sklearn.ensemble import RandomForestRegressor\n",
    "from sklearn.metrics import mean_squared_error, mean_absolute_error\n",
    "rfr = RandomForestRegressor(n_estimators=100, max_depth=5)\n",
    "# learning\n",
    "rfr.fit(X_train, y_train)\n",
    "y_pred = rfr.predict(X_test)\n",
    "# score\n",
    "mse = mean_squared_error(y_test, y_pred)\n",
    "mae = mean_absolute_error(y_test, y_pred)"
   ]
  },
  {
   "cell_type": "code",
   "execution_count": null,
   "id": "df9a8397-d79f-4795-a8e9-c6ceb4065033",
   "metadata": {
    "tags": []
   },
   "outputs": [],
   "source": []
  },
  {
   "cell_type": "code",
   "execution_count": 86,
   "id": "04b6c1ed-73e4-4e96-a8ca-3f1aac34d78b",
   "metadata": {
    "tags": []
   },
   "outputs": [
    {
     "name": "stdout",
     "output_type": "stream",
     "text": [
      "mse: 6610.047965928705\n",
      "mae: 50.385450000000006\n"
     ]
    }
   ],
   "source": [
    "print(\"mse: {}\".format(mse))\n",
    "print(\"mae: {}\".format(mae))"
   ]
  },
  {
   "cell_type": "code",
   "execution_count": 87,
   "id": "c4cbfd89-4826-42a7-81de-a22aec70dbbd",
   "metadata": {
    "tags": []
   },
   "outputs": [
    {
     "data": {
      "text/plain": [
       "60"
      ]
     },
     "execution_count": 87,
     "metadata": {},
     "output_type": "execute_result"
    }
   ],
   "source": [
    "len(y)"
   ]
  },
  {
   "cell_type": "code",
   "execution_count": 88,
   "id": "4c828fa7-e783-41c9-8bc4-f80c351094b7",
   "metadata": {
    "tags": []
   },
   "outputs": [
    {
     "data": {
      "text/plain": [
       "30"
      ]
     },
     "execution_count": 88,
     "metadata": {},
     "output_type": "execute_result"
    }
   ],
   "source": [
    "len(y_pred)"
   ]
  },
  {
   "cell_type": "code",
   "execution_count": 89,
   "id": "2aa12412-cea5-48fe-bcd1-d87bff7b1ab8",
   "metadata": {
    "tags": []
   },
   "outputs": [
    {
     "data": {
      "image/png": "[encoded data removed]",
      "text/plain": [
       "<Figure size 500x500 with 1 Axes>"
      ]
     },
     "metadata": {},
     "output_type": "display_data"
    }
   ],
   "source": [
    "from regression_misc import plot_y_yp\n",
    "plot_y_yp(y_test, y_pred)"
   ]
  },
  {
   "cell_type": "code",
   "execution_count": null,
   "id": "1aab9d57-b811-4460-b79b-60ee1b28c91c",
   "metadata": {},
   "outputs": [],
   "source": []
  },
  {
   "cell_type": "code",
   "execution_count": null,
   "id": "e7f3825f-f1f5-4478-9e42-a4915c6e30ed",
   "metadata": {},
   "outputs": [],
   "source": []
  }
 ],
 "metadata": {
  "kernelspec": {
   "display_name": "Python 3 (ipykernel)",
   "language": "python",
   "name": "python3"
  },
  "language_info": {
   "codemirror_mode": {
    "name": "ipython",
    "version": 3
   },
   "file_extension": ".py",
   "mimetype": "text/x-python",
   "name": "python",
   "nbconvert_exporter": "python",
   "pygments_lexer": "ipython3",
   "version": "3.10.6"
  }
 },
 "nbformat": 4,
 "nbformat_minor": 5
}
