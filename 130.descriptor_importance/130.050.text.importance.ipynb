{
 "cells": [
  {
   "cell_type": "code",
   "execution_count": null,
   "id": "fb052dcd",
   "metadata": {},
   "outputs": [],
   "source": [
    "import pandas as pd\n",
    "import sys\n",
    "import numpy as np\n",
    "import matplotlib.pyplot as plt\n",
    "%matplotlib inline\n",
    "pd.set_option(\"display.max_rows\", 10)\n",
    "pd.set_option(\"display.max_columns\", 60)\n"
   ]
  },
  {
   "cell_type": "code",
   "execution_count": null,
   "id": "898669b1",
   "metadata": {},
   "outputs": [],
   "source": [
    "ROOT = \"..\"\n",
    "filename = f\"{ROOT}/data/TC_ReCo_detail_descriptor.csv\"\n",
    "df = pd.read_csv(filename)\n",
    "DESCRIPTOR_NAMES = ['C_R', 'C_T', 'vol_per_atom', 'Z', 'f4', 'd5',\n",
    "                    'L4f', 'S4f', 'J4f', '(g-1)J4f', '(2-g)J4f']\n",
    "TARGET_NAME = 'Tc'\n"
   ]
  },
  {
   "cell_type": "code",
   "execution_count": null,
   "id": "0361dea7",
   "metadata": {},
   "outputs": [],
   "source": [
    "from sklearn.preprocessing import StandardScaler\n",
    "scaler = StandardScaler()\n",
    "Xraw = df[DESCRIPTOR_NAMES].values\n",
    "scaler.fit(Xraw)\n",
    "X = scaler.transform(Xraw)\n",
    "y = df[TARGET_NAME].values\n"
   ]
  },
  {
   "cell_type": "code",
   "execution_count": null,
   "id": "bf73179a",
   "metadata": {},
   "outputs": [],
   "source": [
    "from sklearn.ensemble import RandomForestRegressor\n",
    "from sklearn.metrics import r2_score\n",
    "rf = RandomForestRegressor(n_estimators=100, random_state=1)\n",
    "rf.fit(X, y)\n"
   ]
  },
  {
   "cell_type": "code",
   "execution_count": null,
   "id": "60e280c4",
   "metadata": {},
   "outputs": [],
   "source": [
    "df_rf_imp = pd.DataFrame(\n",
    "    {\"descriptor\": DESCRIPTOR_NAMES,\n",
    "     \"importance\": rf.feature_importances_})\n",
    "from importance_misc import plot_importance\n",
    "plot_importance(df_rf_imp, \"descriptor\", \"importance\",)\n"
   ]
  },
  {
   "cell_type": "code",
   "execution_count": null,
   "id": "b0438a0e",
   "metadata": {},
   "outputs": [],
   "source": [
    "from sklearn.inspection import permutation_importance\n",
    "perm_imp = permutation_importance(\n",
    "    rf, X, y, n_repeats=30, random_state=20)\n"
   ]
  },
  {
   "cell_type": "code",
   "execution_count": null,
   "id": "7a9962fa",
   "metadata": {},
   "outputs": [],
   "source": [
    "df_perm = pd.DataFrame({\"importances_mean\":\n",
    "                        perm_imp[\"importances_mean\"],\n",
    "                        \"descriptor\": DESCRIPTOR_NAMES})\n",
    "plot_importance(df_perm, \"descriptor\", \"importances_mean\")\n"
   ]
  },
  {
   "cell_type": "code",
   "execution_count": null,
   "id": "e5f26060",
   "metadata": {},
   "outputs": [],
   "source": [
    "from sklearn.linear_model import LinearRegression\n",
    "lr = LinearRegression(fit_intercept=True)\n",
    "lr.fit(X, y)\n",
    "df_lr_coef = pd.DataFrame(\n",
    "    {\"descriptor\": DESCRIPTOR_NAMES, \"abs(coef)\": np.abs(lr.coef_)})\n",
    "plot_importance(df_lr_coef, \"descriptor\", \"abs(coef)\")\n"
   ]
  },
  {
   "cell_type": "code",
   "execution_count": null,
   "id": "45f80761",
   "metadata": {},
   "outputs": [],
   "source": [
    "perm_imp = permutation_importance(\n",
    "    lr, X, y, n_repeats=30, random_state=20)\n"
   ]
  },
  {
   "cell_type": "code",
   "execution_count": null,
   "id": "e9e92e97",
   "metadata": {},
   "outputs": [],
   "source": [
    "df_perm = pd.DataFrame({\"importances_mean\": perm_imp[\"importances_mean\"],\n",
    "                        \"descriptor\": DESCRIPTOR_NAMES})\n",
    "plot_importance(df_perm, \"descriptor\", \"importances_mean\")\n"
   ]
  }
 ],
 "metadata": {
  "interpreter": {
   "hash": "631e33aa572fafc0a3f1363c26f0ce938c74d1e4cffe53590bab1ad626e536d6"
  },
  "kernelspec": {
   "display_name": "Python 3 (ipykernel)",
   "language": "python",
   "name": "python3"
  },
  "language_info": {
   "codemirror_mode": {
    "name": "ipython",
    "version": 3
   },
   "file_extension": ".py",
   "mimetype": "text/x-python",
   "name": "python",
   "nbconvert_exporter": "python",
   "pygments_lexer": "ipython3",
   "version": "3.9.13"
  }
 },
 "nbformat": 4,
 "nbformat_minor": 5
}
