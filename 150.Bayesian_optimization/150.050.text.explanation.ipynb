{
 "cells": [
  {
   "cell_type": "code",
   "execution_count": null,
   "id": "28c15660",
   "metadata": {},
   "outputs": [],
   "source": [
    "from sklearn.gaussian_process import GaussianProcessRegressor, kernels\n",
    "from sklearn.gaussian_process.kernels import RBF\n",
    "from sklearn.preprocessing import StandardScaler\n",
    "import random\n",
    "import numpy as np\n",
    "import pandas as pd\n",
    "import matplotlib.pyplot as plt\n",
    "%matplotlib inline\n"
   ]
  },
  {
   "cell_type": "code",
   "execution_count": null,
   "id": "7d7507af",
   "metadata": {},
   "outputs": [],
   "source": [
    "RANDOM_STATE = 1\n",
    "V = 1\n"
   ]
  },
  {
   "cell_type": "code",
   "execution_count": null,
   "id": "b903fb78",
   "metadata": {},
   "outputs": [],
   "source": [
    "ROOT = \"..\"\n",
    "df = pd.read_csv(f\"{ROOT}/data_calculated/02x_m_sin5w.csv\")\n",
    "DESCRIPTOR_NAMES = ['x1'] #,'x2']\n",
    "TARGET_NAME = \"y\"\n",
    "Xraw = df[DESCRIPTOR_NAMES].values\n",
    "y = df[TARGET_NAME].values\n"
   ]
  },
  {
   "cell_type": "code",
   "execution_count": null,
   "id": "494dc843",
   "metadata": {},
   "outputs": [],
   "source": [
    "scaler = StandardScaler()\n",
    "X = scaler.fit_transform(Xraw)\n",
    "y = y - np.mean(y)\n"
   ]
  },
  {
   "cell_type": "code",
   "execution_count": null,
   "id": "21aeadd5",
   "metadata": {},
   "outputs": [],
   "source": [
    "plt.plot(X[:, 0], y, \".-\")\n"
   ]
  },
  {
   "cell_type": "code",
   "execution_count": null,
   "id": "9ba386a7",
   "metadata": {},
   "outputs": [],
   "source": [
    "kernel = RBF(length_scale=1)\n",
    "reg = GaussianProcessRegressor(kernel=kernel, optimizer=None)\n"
   ]
  },
  {
   "cell_type": "code",
   "execution_count": null,
   "id": "c2de5def",
   "metadata": {},
   "outputs": [],
   "source": [
    "iopt = np.argmax(y)\n"
   ]
  },
  {
   "cell_type": "code",
   "execution_count": null,
   "id": "8a9b7bca",
   "metadata": {},
   "outputs": [],
   "source": [
    "from BO_misc import plot_GPR\n",
    "\n",
    "random.seed(RANDOM_STATE)\n",
    "idx = range(X.shape[0])\n",
    "action = random.sample(idx, 3)\n",
    "final_action = False\n",
    "for it in range(20):\n",
    "    Xtrain = X[action]\n",
    "    ytrain = y[action]\n",
    "    reg.fit(Xtrain, ytrain)\n",
    "    yp_mean, yp_std = reg.predict(X, return_std=True)\n",
    "    acq = yp_mean + yp_std*np.sqrt(V*it)\n",
    "    ia = np.argmax(acq)\n",
    "    action = np.hstack([action, ia])\n",
    "    plot_GPR(X, y, Xtrain, ytrain, yp_mean, yp_std, acq, it+1, ia)\n",
    "    if final_action:\n",
    "        break\n",
    "    if iopt in action:\n",
    "        print(f\"iteration {it} action={action}\")\n",
    "        final_action = True\n"
   ]
  }
 ],
 "metadata": {
  "kernelspec": {
   "display_name": "Python 3 (ipykernel)",
   "language": "python",
   "name": "python3"
  },
  "language_info": {
   "codemirror_mode": {
    "name": "ipython",
    "version": 3
   },
   "file_extension": ".py",
   "mimetype": "text/x-python",
   "name": "python",
   "nbconvert_exporter": "python",
   "pygments_lexer": "ipython3",
   "version": "3.9.13"
  }
 },
 "nbformat": 4,
 "nbformat_minor": 5
}
