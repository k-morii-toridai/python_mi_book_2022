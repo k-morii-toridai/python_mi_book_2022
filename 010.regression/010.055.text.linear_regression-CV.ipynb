{
 "cells": [
  {
   "cell_type": "code",
   "execution_count": null,
   "id": "b25b5209",
   "metadata": {},
   "outputs": [],
   "source": [
    "import numpy as np\n",
    "import pandas as pd\n",
    "import matplotlib.pyplot as plt\n",
    "np.set_printoptions(precision=3)\n",
    "ROOT = \"..\"\n",
    "filename = f\"{ROOT}/data_calculated/x5_sin.csv\"\n",
    "DESCRIPTOR_NAMES = ['x1', 'x2', 'x3', 'x4', 'x5', 'x6']\n",
    "TARGET_NAME = \"y\"\n",
    "df_obs = pd.read_csv(filename)\n",
    "Xraw = df_obs.loc[:, DESCRIPTOR_NAMES].values\n",
    "y = df_obs.loc[:, TARGET_NAME].values\n"
   ]
  },
  {
   "cell_type": "code",
   "execution_count": null,
   "id": "e149fb5c",
   "metadata": {},
   "outputs": [],
   "source": [
    "from sklearn.preprocessing import StandardScaler\n",
    "scaler = StandardScaler()\n",
    "scaler.fit(Xraw)\n",
    "X = scaler.transform(Xraw)\n"
   ]
  },
  {
   "cell_type": "code",
   "execution_count": null,
   "id": "23b8561f",
   "metadata": {},
   "outputs": [],
   "source": [
    "from sklearn.linear_model import Lasso\n",
    "from sklearn.metrics import r2_score\n",
    "from sklearn.model_selection import KFold\n",
    "# 計算パラメタ設定\n",
    "N_SPLITS = 5\n",
    "SHUFFLE = True\n",
    "score_function = r2_score\n",
    "# 性能評価値を保存する変数の定義\n",
    "train_score_list = []\n",
    "test_score_list = []\n",
    "alpha_list = np.logspace(-5, -1, 20)\n",
    "# hyperparameter loop\n",
    "for alpha in alpha_list:\n",
    "    reg = Lasso(alpha=alpha)\n",
    "    # CV setting\n",
    "    kf = KFold(n_splits=N_SPLITS, shuffle=SHUFFLE,\n",
    "               random_state=1)\n",
    "    # CV loop\n",
    "    cv_train_score_list = []\n",
    "    cv_test_score_list = []\n",
    "    for train, test in kf.split(X):\n",
    "        Xtrain, ytrain = X[train], y[train]\n",
    "        Xtest, ytest = X[test], y[test]\n",
    "        reg.fit(Xtrain, ytrain)\n",
    "        ytrainp = reg.predict(Xtrain)\n",
    "        ytestp = reg.predict(Xtest)\n",
    "        # 評価指標の計算と保存\n",
    "        trainscore = score_function(ytrain, ytrainp)\n",
    "        cv_train_score_list.append(trainscore)\n",
    "        testscore = score_function(ytest, ytestp)\n",
    "        cv_test_score_list.append(testscore)\n",
    "    train_score_list.append([np.mean(cv_train_score_list), \n",
    "                             np.std(cv_train_score_list), alpha])\n",
    "    test_score_list.append([np.mean(cv_test_score_list), \n",
    "                            np.std(cv_test_score_list), alpha])\n"
   ]
  },
  {
   "cell_type": "code",
   "execution_count": null,
   "id": "e518a11c",
   "metadata": {},
   "outputs": [],
   "source": [
    "columns_list = [\"mean(R2)_train\", \"std(R2)_train\", \"alpha\"]\n",
    "df_train_score = pd.DataFrame(train_score_list, columns=columns_list)\n",
    "columns_list = [\"mean(R2)_test\", \"std(R2)_test\", \"alpha\"]\n",
    "df_test_score = pd.DataFrame(test_score_list, columns=columns_list)\n",
    "df_score = df_train_score.merge(df_test_score, on=\"alpha\")\n"
   ]
  },
  {
   "cell_type": "code",
   "execution_count": null,
   "id": "95443956",
   "metadata": {},
   "outputs": [],
   "source": [
    "df_score"
   ]
  },
  {
   "cell_type": "code",
   "execution_count": null,
   "id": "ddeb46b7",
   "metadata": {},
   "outputs": [],
   "source": [
    "from regression_misc import plot_alpha_yerror\n",
    "plot_alpha_yerror(df_score)\n"
   ]
  },
  {
   "cell_type": "code",
   "execution_count": null,
   "id": "43fb02d5",
   "metadata": {},
   "outputs": [],
   "source": [
    "imax = np.argmax(df_score[\"mean(R2)_test\"])\n",
    "alpha_opt = df_score.loc[imax, \"alpha\"]\n",
    "print(\"alpha_opt\", alpha_opt)\n",
    "reg = Lasso(alpha=alpha_opt)\n",
    "reg.fit(X, y)\n",
    "print(reg.coef_, reg.intercept_)\n",
    "yp = reg.predict(X)\n"
   ]
  },
  {
   "cell_type": "code",
   "execution_count": null,
   "id": "fe0d8787",
   "metadata": {},
   "outputs": [],
   "source": [
    "from regression_misc import plot_y_yp\n",
    "\n",
    "reg = Lasso(alpha=alpha_opt)\n",
    "kf = KFold(n_splits=N_SPLITS, shuffle=SHUFFLE, random_state=1)\n",
    "ytest_list = []\n",
    "ytestp_list = []\n",
    "# CV loop\n",
    "for train, test in kf.split(X):\n",
    "    Xtrain, ytrain = X[train], y[train]\n",
    "    Xtest, ytest = X[test], y[test]\n",
    "    # 学習\n",
    "    reg.fit(Xtrain, ytrain)\n",
    "    ytrainp = reg.predict(Xtrain)\n",
    "    ytestp = reg.predict(Xtest)\n",
    "    ytest_list.append(ytest)\n",
    "    ytestp_list.append(ytestp)\n",
    "# 可視化\n",
    "\n",
    "plot_y_yp(ytest_list, ytestp_list)\n"
   ]
  },
  {
   "cell_type": "code",
   "execution_count": null,
   "id": "5a8de00e",
   "metadata": {},
   "outputs": [],
   "source": [
    "filename_new = \"../data_calculated/x5_sin_new.csv\"\n",
    "df_new = pd.read_csv(filename_new)\n",
    "Xraw_new = df_new.loc[:, DESCRIPTOR_NAMES].values\n",
    "ynew = df_new.loc[:, TARGET_NAME].values\n",
    "Xnew = scaler.transform(Xraw_new)\n",
    "ynewp = reg.predict(Xnew)\n"
   ]
  },
  {
   "cell_type": "code",
   "execution_count": null,
   "id": "595cc771",
   "metadata": {},
   "outputs": [],
   "source": [
    "plot_y_yp(ynew, ynewp)\n"
   ]
  },
  {
   "cell_type": "code",
   "execution_count": null,
   "id": "780a0922",
   "metadata": {},
   "outputs": [],
   "source": [
    "from regression_misc import plot_x1_y\n",
    "plot_x1_y(X, y, yp, Xnew, ynew, ynewp )"
   ]
  },
  {
   "cell_type": "code",
   "execution_count": null,
   "id": "383ae93b",
   "metadata": {},
   "outputs": [],
   "source": [
    "from sklearn.linear_model import LassoCV\n",
    "kf = KFold(N_SPLITS, shuffle=True, random_state=1)\n",
    "reg = LassoCV(cv=kf, alphas=alpha_list)\n",
    "reg.fit(X, y)\n",
    "print(\"alpha\", reg.alpha_)\n",
    "print(\"coef\", reg.coef_)\n"
   ]
  },
  {
   "cell_type": "code",
   "execution_count": null,
   "id": "3755dfe0",
   "metadata": {},
   "outputs": [],
   "source": [
    "from sklearn.model_selection import cross_val_score\n",
    "from sklearn.metrics import make_scorer\n",
    "result = []\n",
    "for alpha in alpha_list:\n",
    "    kf = KFold(N_SPLITS, shuffle=True, random_state=1)\n",
    "    reg = Lasso(alpha=alpha)\n",
    "    score_test = cross_val_score(reg, X, y, cv=kf, \n",
    "                                 scoring=make_scorer(r2_score))\n",
    "    result.append([alpha, np.mean(score_test), np.std(score_test)])\n",
    "df_result = pd.DataFrame(result, \n",
    "                         columns=[\"alpha\", \"mean(R2)_test\", \"std(R2)_test\"])\n",
    "plot_alpha_yerror(df_result)\n"
   ]
  }
 ],
 "metadata": {
  "kernelspec": {
   "display_name": "Python 3 (ipykernel)",
   "language": "python",
   "name": "python3"
  },
  "language_info": {
   "codemirror_mode": {
    "name": "ipython",
    "version": 3
   },
   "file_extension": ".py",
   "mimetype": "text/x-python",
   "name": "python",
   "nbconvert_exporter": "python",
   "pygments_lexer": "ipython3",
   "version": "3.9.13"
  }
 },
 "nbformat": 4,
 "nbformat_minor": 5
}
