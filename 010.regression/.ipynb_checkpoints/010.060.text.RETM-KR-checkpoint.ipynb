{
 "cells": [
  {
   "cell_type": "code",
   "execution_count": null,
   "id": "b25b5209",
   "metadata": {},
   "outputs": [],
   "source": [
    "import numpy as np\n",
    "import pandas as pd\n",
    "import matplotlib.pyplot as plt\n",
    "ROOT = \"..\"\n",
    "filename = f\"{ROOT}/data/TC_ReCo_detail_descriptor.csv\"\n",
    "DESCRIPTOR_NAMES = ['C_R', 'C_T', 'vol_per_atom', 'Z', 'f4', 'd5', 'L4f', \n",
    "                    'S4f', 'J4f','(g-1)J4f', '(2-g)J4f']\n",
    "TARGET_NAME = 'Tc'\n",
    "RANDOM_STATE = 5\n",
    "df_obs = pd.read_csv(filename)\n",
    "Xraw = df_obs.loc[:, DESCRIPTOR_NAMES].values\n",
    "y = df_obs.loc[:, TARGET_NAME].values\n"
   ]
  },
  {
   "cell_type": "code",
   "execution_count": null,
   "id": "e149fb5c",
   "metadata": {},
   "outputs": [],
   "source": [
    "from sklearn.preprocessing import StandardScaler\n",
    "scaler = StandardScaler()\n",
    "scaler.fit(Xraw)\n",
    "X = scaler.transform(Xraw)\n"
   ]
  },
  {
   "cell_type": "code",
   "execution_count": null,
   "id": "76b12ae7",
   "metadata": {},
   "outputs": [],
   "source": [
    "from sklearn.model_selection import KFold\n",
    "from sklearn.kernel_ridge import KernelRidge\n",
    "from sklearn.model_selection import GridSearchCV\n",
    "# データからの学習\n",
    "nfold = 10\n",
    "kf = KFold(nfold, shuffle=True, random_state=RANDOM_STATE)\n",
    "estimator = KernelRidge(alpha=1, gamma=1, kernel=\"rbf\")\n",
    "param_grid = {\"alpha\": np.logspace(-6, 0, 11), \n",
    "              \"gamma\": np.logspace(-5, 0, 11)}\n",
    "reg_cv = GridSearchCV(estimator,  cv=kf, param_grid=param_grid)\n",
    "reg_cv.fit(X, y)\n",
    "print(\"best hyperparameter\")\n",
    "print(reg_cv.best_params_)\n"
   ]
  },
  {
   "cell_type": "code",
   "execution_count": null,
   "id": "7363ce2b",
   "metadata": {},
   "outputs": [],
   "source": [
    "from regression_misc import plot_y_yp\n",
    "from sklearn.metrics import r2_score\n",
    "yp = reg_cv.predict(X)\n",
    "# R2の評価\n",
    "kr_score = r2_score(y, yp)\n",
    "print(\"R2=\", kr_score)\n",
    "plot_y_yp(y, yp)\n"
   ]
  },
  {
   "cell_type": "code",
   "execution_count": null,
   "id": "6ed4f799",
   "metadata": {},
   "outputs": [],
   "source": [
    "from sklearn.model_selection import cross_validate, cross_val_predict\n",
    "from sklearn.metrics import make_scorer\n",
    "kf = KFold(nfold, shuffle=True, random_state=RANDOM_STATE)\n",
    "reg = KernelRidge(alpha=reg_cv.best_params_[\"alpha\"], \n",
    "                  gamma=reg_cv.best_params_[\"gamma\"], kernel=\"rbf\")\n",
    "\n",
    "cv_results = cross_validate(reg, X, y, scoring=make_scorer(r2_score), cv=kf)\n",
    "print(np.mean(cv_results[\"test_score\"]), np.std(cv_results[\"test_score\"]))\n",
    "\n",
    "kf = KFold(nfold, shuffle=True, random_state=RANDOM_STATE)\n",
    "yp = cross_val_predict(reg, X, y, cv=kf)\n",
    "plot_y_yp(y, yp)"
   ]
  }
 ],
 "metadata": {
  "kernelspec": {
   "display_name": "Python 3 (ipykernel)",
   "language": "python",
   "name": "python3"
  },
  "language_info": {
   "codemirror_mode": {
    "name": "ipython",
    "version": 3
   },
   "file_extension": ".py",
   "mimetype": "text/x-python",
   "name": "python",
   "nbconvert_exporter": "python",
   "pygments_lexer": "ipython3",
   "version": "3.9.13"
  }
 },
 "nbformat": 4,
 "nbformat_minor": 5
}
