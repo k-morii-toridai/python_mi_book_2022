{
 "cells": [
  {
   "cell_type": "code",
   "execution_count": null,
   "id": "8cf9e05e",
   "metadata": {},
   "outputs": [],
   "source": [
    "import numpy as np\n",
    "import seaborn as sns\n",
    "import pandas as pd\n",
    "import os\n",
    "import matplotlib.pyplot as plt\n",
    "%matplotlib inline\n"
   ]
  },
  {
   "cell_type": "code",
   "execution_count": null,
   "id": "8c60fe0a",
   "metadata": {},
   "outputs": [],
   "source": [
    "from sklearn.preprocessing import StandardScaler\n",
    "# データ取得\n",
    "ROOT = \"..\"\n",
    "dirname = f\"{ROOT}/data_calculated\"\n",
    "filename = os.path.join(dirname,\n",
    "                        \"Carbon8_descriptor_selected_sp.csv\")\n",
    "df_obs = pd.read_csv(filename, index_col=[0, 1])\n",
    "filename = os.path.join(dirname,\n",
    "                        \"Carbon8_descriptor.csv\")\n",
    "df_all = pd.read_csv(filename,\n",
    "                     index_col=[0, 1])\n",
    "DESCRIPTOR_NAMES = ['a0.25_rp1.0', 'a0.25_rp1.5', 'a0.25_rp2.0',\n",
    "                    'a0.25_rp2.5', 'a0.25_rp3.0', 'a0.5_rp1.0',\n",
    "                    'a0.5_rp1.5', 'a0.5_rp2.0',  'a0.5_rp2.5',\n",
    "                    'a0.5_rp3.0',  'a1.0_rp1.0', 'a1.0_rp1.5',\n",
    "                    'a1.0_rp2.0', 'a1.0_rp2.5', 'a1.0_rp3.0']\n",
    "SPLABEL = \"sp_label\""
   ]
  },
  {
   "cell_type": "code",
   "execution_count": null,
   "id": "643e4a97",
   "metadata": {},
   "outputs": [],
   "source": [
    "Xraw = df_obs.loc[:, DESCRIPTOR_NAMES].values\n",
    "scaler = StandardScaler()\n",
    "scaler.fit(Xraw)\n",
    "X = scaler.transform(Xraw)\n",
    "# 全データ\n",
    "Xraw_new = df_all.loc[:, DESCRIPTOR_NAMES].values\n",
    "X_new = scaler.transform(Xraw_new)\n"
   ]
  },
  {
   "cell_type": "code",
   "execution_count": null,
   "id": "8d158008",
   "metadata": {},
   "outputs": [],
   "source": [
    "from sklearn.decomposition import PCA\n",
    "ndim = X.shape[1]\n",
    "pca = PCA(ndim)\n",
    "pca.fit(X)\n",
    "explained_variance_ratio = []\n",
    "indx = [i for i in\n",
    "        range(1, len(pca.explained_variance_ratio_)+1)]\n",
    "esum = [np.sum(pca.explained_variance_ratio_[:i+1]) for i in\n",
    "        range(len(pca.explained_variance_ratio_))]\n"
   ]
  },
  {
   "cell_type": "code",
   "execution_count": null,
   "id": "7379f917",
   "metadata": {},
   "outputs": [],
   "source": [
    "from dimred_misc import plot_expratio\n",
    "plot_expratio(indx, pca.explained_variance_ratio_, esum)"
   ]
  },
  {
   "cell_type": "code",
   "execution_count": null,
   "id": "3c3d1a60",
   "metadata": {},
   "outputs": [],
   "source": [
    "from sklearn.decomposition import PCA\n",
    "ndim = 2\n",
    "pca = PCA(ndim)\n",
    "pca.fit(X)\n",
    "X_rd = pca.transform(X)\n",
    "X_rd_new = pca.transform(X_new)\n"
   ]
  },
  {
   "cell_type": "code",
   "execution_count": null,
   "id": "119afaa0",
   "metadata": {},
   "outputs": [],
   "source": [
    "from dimred_misc import scatterplot_rd\n",
    "scatterplot_rd(X_rd, df_obs[SPLABEL].values, X_rd_new)\n"
   ]
  },
  {
   "cell_type": "code",
   "execution_count": null,
   "id": "719fc444",
   "metadata": {},
   "outputs": [],
   "source": [
    "from sklearn.manifold import MDS\n",
    "mds = MDS(ndim, random_state=1)\n",
    "X_mse = mds.fit_transform(X)\n",
    "scatterplot_rd(X_mse, df_obs[SPLABEL].values)\n"
   ]
  },
  {
   "cell_type": "code",
   "execution_count": null,
   "id": "3bb20e2c",
   "metadata": {},
   "outputs": [],
   "source": [
    "from sklearn.manifold import TSNE\n",
    "import warnings\n",
    "warnings.filterwarnings(action=\"ignore\")\n",
    "tsne = TSNE(ndim, random_state=1, perplexity=30)\n",
    "X_tsne = tsne.fit_transform(X)\n",
    "scatterplot_rd(X_tsne, df_obs[SPLABEL].values)\n"
   ]
  },
  {
   "cell_type": "code",
   "execution_count": null,
   "id": "610eefb6",
   "metadata": {},
   "outputs": [],
   "source": []
  }
 ],
 "metadata": {
  "kernelspec": {
   "display_name": "Python 3 (ipykernel)",
   "language": "python",
   "name": "python3"
  },
  "language_info": {
   "codemirror_mode": {
    "name": "ipython",
    "version": 3
   },
   "file_extension": ".py",
   "mimetype": "text/x-python",
   "name": "python",
   "nbconvert_exporter": "python",
   "pygments_lexer": "ipython3",
   "version": "3.9.13"
  }
 },
 "nbformat": 4,
 "nbformat_minor": 5
}
